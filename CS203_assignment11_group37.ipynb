{
  "nbformat": 4,
  "nbformat_minor": 0,
  "metadata": {
    "colab": {
      "provenance": []
    },
    "kernelspec": {
      "name": "python3",
      "display_name": "Python 3"
    },
    "language_info": {
      "name": "python"
    }
  },
  "cells": [
    {
      "cell_type": "code",
      "source": [
        "import pandas as pd\n",
        "from sklearn.model_selection import train_test_split\n",
        "from sklearn.feature_extraction.text import TfidfVectorizer\n",
        "import torch\n",
        "from torch.utils.data import TensorDataset, DataLoader\n",
        "\n",
        "# Load data\n",
        "train_df = pd.read_csv(\"https://raw.githubusercontent.com/clairett/pytorch-sentiment-classification/master/data/SST2/train.tsv\", sep=\"\\t\", header=0)\n",
        "train_df.columns = ['sentence', 'label']\n",
        "test_df = pd.read_csv(\"https://raw.githubusercontent.com/clairett/pytorch-sentiment-classification/master/data/SST2/test.tsv\", sep=\"\\t\", header=0)\n",
        "test_df.columns = ['sentence', 'label']\n",
        "\n",
        "\n",
        "# Vectorize using TF-IDF\n",
        "vectorizer = TfidfVectorizer(max_features=10000)\n",
        "X_train_full = vectorizer.fit_transform(train_df['sentence']).toarray()\n",
        "y_train_full = train_df['label'].values\n",
        "\n",
        "X_test = vectorizer.transform(test_df['sentence']).toarray()\n",
        "\n",
        "# Train/Validation Split\n",
        "X_train, X_val, y_train, y_val = train_test_split(X_train_full, y_train_full, test_size=0.2, random_state=42)\n",
        "\n",
        "# Convert to tensors\n",
        "train_dataset = TensorDataset(torch.tensor(X_train, dtype=torch.float32), torch.tensor(y_train))\n",
        "val_dataset   = TensorDataset(torch.tensor(X_val, dtype=torch.float32), torch.tensor(y_val))\n",
        "test_dataset  = TensorDataset(torch.tensor(X_test, dtype=torch.float32), torch.zeros(len(X_test), dtype=torch.long))\n",
        "\n",
        "\n"
      ],
      "metadata": {
        "id": "KpDhvxb5WEP2"
      },
      "execution_count": 6,
      "outputs": []
    },
    {
      "cell_type": "code",
      "source": [
        "import torch.nn as nn\n",
        "\n",
        "class MLP(nn.Module):\n",
        "    def __init__(self, input_size, hidden_sizes=[512, 256, 128, 64], output_size=2):\n",
        "        super(MLP, self).__init__()\n",
        "        layers = []\n",
        "        sizes = [input_size] + hidden_sizes\n",
        "        for i in range(len(sizes) - 1):\n",
        "            layers.append(nn.Linear(sizes[i], sizes[i+1]))\n",
        "            layers.append(nn.ReLU())\n",
        "        layers.append(nn.Linear(sizes[-1], output_size))\n",
        "        self.model = nn.Sequential(*layers)\n",
        "\n",
        "    def forward(self, x):\n",
        "        return self.model(x)\n",
        "\n",
        "# Initialize with correct input size from TF-IDF\n",
        "input_size = X_train.shape[1]\n",
        "mlp = MLP(input_size=input_size)\n"
      ],
      "metadata": {
        "id": "gcK0oe_iYWQe"
      },
      "execution_count": 10,
      "outputs": []
    },
    {
      "cell_type": "code",
      "source": [
        "def count_parameters(model):\n",
        "    return sum(p.numel() for p in model.parameters() if p.requires_grad)\n",
        "\n",
        "print(f\"Trainable Parameters: {count_parameters(mlp)}\")\n"
      ],
      "metadata": {
        "colab": {
          "base_uri": "https://localhost:8080/"
        },
        "id": "bi72B5Q_YZrb",
        "outputId": "9f0eb033-5fd2-4fdc-c73b-fb59d766af1a"
      },
      "execution_count": 11,
      "outputs": [
        {
          "output_type": "stream",
          "name": "stdout",
          "text": [
            "Trainable Parameters: 5293122\n"
          ]
        }
      ]
    },
    {
      "cell_type": "code",
      "source": [
        "import torch.optim as optim\n",
        "from torch.utils.data import DataLoader\n",
        "import matplotlib.pyplot as plt\n",
        "\n",
        "train_loader = DataLoader(train_dataset, batch_size=32, shuffle=True)\n",
        "val_loader = DataLoader(val_dataset, batch_size=32)\n",
        "\n",
        "criterion = nn.CrossEntropyLoss()\n",
        "optimizer = optim.Adam(mlp.parameters(), lr=0.001)\n",
        "\n",
        "device = torch.device(\"cuda\" if torch.cuda.is_available() else \"cpu\")\n",
        "mlp.to(device)\n",
        "\n",
        "best_val_acc = 0\n",
        "train_losses, val_losses, val_accuracies = [], [], []\n",
        "\n",
        "for epoch in range(10):\n",
        "    mlp.train()\n",
        "    running_loss = 0\n",
        "    for xb, yb in train_loader:\n",
        "        xb, yb = xb.to(device), yb.to(device)\n",
        "        optimizer.zero_grad()\n",
        "        out = mlp(xb)\n",
        "        loss = criterion(out, yb)\n",
        "        loss.backward()\n",
        "        optimizer.step()\n",
        "        running_loss += loss.item()\n",
        "\n",
        "    train_losses.append(running_loss / len(train_loader))\n",
        "\n",
        "    # Validation\n",
        "    mlp.eval()\n",
        "    correct, total, val_loss = 0, 0, 0\n",
        "    with torch.no_grad():\n",
        "        for xb, yb in val_loader:\n",
        "            xb, yb = xb.to(device), yb.to(device)\n",
        "            out = mlp(xb)\n",
        "            val_loss += criterion(out, yb).item()\n",
        "            pred = out.argmax(1)\n",
        "            correct += (pred == yb).sum().item()\n",
        "            total += yb.size(0)\n",
        "\n",
        "    val_losses.append(val_loss / len(val_loader))\n",
        "    val_acc = 100 * correct / total\n",
        "    val_accuracies.append(val_acc)\n",
        "\n",
        "    if val_acc > best_val_acc:\n",
        "        torch.save(mlp.state_dict(), \"checkpoint.pt\")\n",
        "        best_val_acc = val_acc\n",
        "\n",
        "    print(f\"Epoch {epoch+1}: Train Loss={train_losses[-1]:.4f}, Val Loss={val_losses[-1]:.4f}, Val Acc={val_acc:.2f}%\")\n",
        "\n",
        "# Plot\n",
        "plt.plot(range(1, 11), val_losses, label='Val Loss')\n",
        "plt.plot(range(1, 11), val_accuracies, label='Val Accuracy')\n",
        "plt.xlabel(\"Epochs\")\n",
        "plt.ylabel(\"Metric\")\n",
        "plt.legend()\n",
        "plt.title(\"Validation Accuracy & Loss\")\n",
        "plt.grid(True)\n",
        "plt.show()\n"
      ],
      "metadata": {
        "colab": {
          "base_uri": "https://localhost:8080/",
          "height": 646
        },
        "id": "fskZDHGIYbjf",
        "outputId": "b7e33e5b-521d-4cee-9af4-1cc7d74b7c10"
      },
      "execution_count": 12,
      "outputs": [
        {
          "output_type": "stream",
          "name": "stdout",
          "text": [
            "Epoch 1: Train Loss=0.5570, Val Loss=0.4628, Val Acc=77.60%\n",
            "Epoch 2: Train Loss=0.1968, Val Loss=0.5611, Val Acc=77.53%\n",
            "Epoch 3: Train Loss=0.0428, Val Loss=0.8784, Val Acc=76.01%\n",
            "Epoch 4: Train Loss=0.0108, Val Loss=1.3520, Val Acc=76.16%\n",
            "Epoch 5: Train Loss=0.0036, Val Loss=1.6346, Val Acc=77.31%\n",
            "Epoch 6: Train Loss=0.0014, Val Loss=1.9122, Val Acc=77.10%\n",
            "Epoch 7: Train Loss=0.0022, Val Loss=1.8173, Val Acc=76.88%\n",
            "Epoch 8: Train Loss=0.0020, Val Loss=1.5998, Val Acc=76.81%\n",
            "Epoch 9: Train Loss=0.0001, Val Loss=1.7473, Val Acc=76.66%\n",
            "Epoch 10: Train Loss=0.0000, Val Loss=1.8395, Val Acc=76.45%\n"
          ]
        },
        {
          "output_type": "display_data",
          "data": {
            "text/plain": [
              "<Figure size 640x480 with 1 Axes>"
            ],
            "image/png": "[encoded data removed]"
          },
          "metadata": {}
        }
      ]
    },
    {
      "cell_type": "code",
      "source": [
        "import torch.quantization\n",
        "\n",
        "quantized_model = torch.quantization.quantize_dynamic(\n",
        "    mlp.cpu(), {nn.Linear}, dtype=torch.qint8  # Use qint8, true INT4 not supported in PyTorch directly\n",
        ")\n",
        "torch.save(quantized_model.state_dict(), \"quantized_dynamic.pt\")\n"
      ],
      "metadata": {
        "id": "5xRW3u-dYjrO"
      },
      "execution_count": 13,
      "outputs": []
    },
    {
      "cell_type": "code",
      "source": [
        "fp16_model = MLP(input_size=input_size)  # Reload model fresh\n",
        "fp16_model.load_state_dict(torch.load(\"checkpoint.pt\"))\n",
        "fp16_model = fp16_model.half()\n",
        "torch.save(fp16_model.state_dict(), \"half_precision.pt\")\n"
      ],
      "metadata": {
        "id": "4b_KigNMYlC0"
      },
      "execution_count": 14,
      "outputs": []
    },
    {
      "cell_type": "code",
      "source": [
        "import os, time\n",
        "\n",
        "def evaluate_model(model, loader, use_half=False):\n",
        "    model.eval().cpu()\n",
        "    if use_half:\n",
        "        model = model.half()\n",
        "\n",
        "    correct, total = 0, 0\n",
        "    start = time.time()\n",
        "    with torch.no_grad():\n",
        "        for xb, yb in loader:\n",
        "            if use_half:\n",
        "                xb = xb.half()\n",
        "            out = model(xb)\n",
        "            pred = out.argmax(1)\n",
        "            correct += (pred == yb).sum().item()\n",
        "            total += yb.size(0)\n",
        "    end = time.time()\n",
        "    acc = 100 * correct / total\n",
        "    avg_time = (end - start) * 1000 / total  # ms/sample\n",
        "    return acc, avg_time\n",
        "\n",
        "# Reload original model for evaluation\n",
        "original_model = MLP(input_size=input_size)\n",
        "original_model.load_state_dict(torch.load(\"checkpoint.pt\"))\n",
        "\n",
        "# Evaluate\n",
        "original_acc, original_time = evaluate_model(original_model, DataLoader(val_dataset))\n",
        "quant_acc, quant_time = evaluate_model(quantized_model, DataLoader(val_dataset))\n",
        "half_acc, half_time = evaluate_model(fp16_model, DataLoader(val_dataset), use_half=True)\n",
        "\n",
        "# Storage size\n",
        "def get_size(path):\n",
        "    return os.path.getsize(path) / 1e6  # in MB\n",
        "\n",
        "torch.save(original_model.state_dict(), \"original.pt\")\n",
        "print(f\"{'Model':<12} | {'Accuracy (%)':<12} | {'Size (MB)':<10} | {'Infer Time (ms)':<16}\")\n",
        "print(f\"{'-'*55}\")\n",
        "print(f\"{'Original':<12} | {original_acc:<12.2f} | {get_size('original.pt'):<10.2f} | {original_time:<16.2f}\")\n",
        "print(f\"{'Dynamic':<12} | {quant_acc:<12.2f} | {get_size('quantized_dynamic.pt'):<10.2f} | {quant_time:<16.2f}\")\n",
        "print(f\"{'Half':<12} | {half_acc:<12.2f} | {get_size('half_precision.pt'):<10.2f} | {half_time:<16.2f}\")\n"
      ],
      "metadata": {
        "colab": {
          "base_uri": "https://localhost:8080/"
        },
        "id": "tqD6uUnLYrK4",
        "outputId": "33f5124d-f0bf-4b32-c46f-788c67e71a04"
      },
      "execution_count": 15,
      "outputs": [
        {
          "output_type": "stream",
          "name": "stdout",
          "text": [
            "Model        | Accuracy (%) | Size (MB)  | Infer Time (ms) \n",
            "-------------------------------------------------------\n",
            "Original     | 77.60        | 21.18      | 1.59            \n",
            "Dynamic      | 76.45        | 5.30       | 0.99            \n",
            "Half         | 77.60        | 10.59      | 1.51            \n"
          ]
        }
      ]
    }
  ]
}